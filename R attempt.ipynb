{
 "cells": [
  {
   "cell_type": "code",
   "execution_count": 5,
   "id": "4e091fd7-25d7-4e54-803b-3e5d0046201b",
   "metadata": {
    "tags": []
   },
   "outputs": [
    {
     "name": "stderr",
     "output_type": "stream",
     "text": [
      "also installing the dependency ‘igraph’\n",
      "\n",
      "\n",
      "Warning message in install.packages(\"kknn\"):\n",
      "“installation of package ‘igraph’ had non-zero exit status”\n",
      "Warning message in install.packages(\"kknn\"):\n",
      "“installation of package ‘kknn’ had non-zero exit status”\n",
      "Updating HTML index of packages in '.Library'\n",
      "\n",
      "Making 'packages.html' ...\n",
      " done\n",
      "\n"
     ]
    },
    {
     "data": {
      "text/plain": [
       "R Information\n",
       "\n",
       "Help files with alias or concept or title matching ‘kknn’ using regular\n",
       "expression matching:\n",
       "\n",
       "\n",
       "parsnip::details_nearest_neighbor_kknn\n",
       "                        K-nearest neighbors via kknn\n",
       "  Aliases: details_nearest_neighbor_kknn\n",
       "parsnip::multi_predict\n",
       "                        Model predictions across many sub-models\n",
       "  Aliases: multi_predict._train.kknn\n",
       "\n",
       "\n",
       "Type '?PKG::FOO' to inspect entries 'PKG::FOO', or 'TYPE?PKG::FOO' for\n",
       "entries like 'PKG::FOO-TYPE'.\n",
       "\n",
       "\n"
      ]
     },
     "metadata": {},
     "output_type": "display_data"
    }
   ],
   "source": [
    "library(tidyverse)\n",
    "library(repr)\n",
    "# update.packages(\"https://cran.r-project.org/src/contrib/cli_3.6.1.tar.gz\")\n",
    "# remotes::install_github(\"tidymodels/tidymodels\")\n",
    "library(tidymodels)\n",
    "library(randomForest)\n",
    "install.packages(\"kknn\")\n",
    "# install.packages(\"tidymodels\")\n",
    "options(repr.matrix.max.rows = 6)"
   ]
  },
  {
   "cell_type": "code",
   "execution_count": null,
   "id": "da36fbed-2a78-405a-92c7-69d276b50ffc",
   "metadata": {},
   "outputs": [],
   "source": []
  },
  {
   "cell_type": "code",
   "execution_count": 2,
   "id": "a6cb79e9-f687-416e-bdd0-1faa402da0aa",
   "metadata": {
    "tags": []
   },
   "outputs": [
    {
     "name": "stderr",
     "output_type": "stream",
     "text": [
      "\u001b[1mRows: \u001b[22m\u001b[34m142\u001b[39m \u001b[1mColumns: \u001b[22m\u001b[34m6\u001b[39m\n",
      "\u001b[36m──\u001b[39m \u001b[1mColumn specification\u001b[22m \u001b[36m────────────────────────────────────────────────────────\u001b[39m\n",
      "\u001b[1mDelimiter:\u001b[22m \",\"\n",
      "\u001b[31mchr\u001b[39m (3): email, dominant, used\n",
      "\u001b[32mdbl\u001b[39m (2): tsne1, tsne2\n",
      "\u001b[33mlgl\u001b[39m (1): pd\n",
      "\n",
      "\u001b[36mℹ\u001b[39m Use `spec()` to retrieve the full column specification for this data.\n",
      "\u001b[36mℹ\u001b[39m Specify the column types or set `show_col_types = FALSE` to quiet this message.\n"
     ]
    }
   ],
   "source": [
    "pls_work <- read_csv(\"t-sne.csv\")\n",
    "# pls_work\n",
    "set.seed(42)"
   ]
  },
  {
   "cell_type": "code",
   "execution_count": 3,
   "id": "d3c2b309-bf9d-491b-ba9f-fcbc73f1bf45",
   "metadata": {
    "tags": []
   },
   "outputs": [
    {
     "ename": "ERROR",
     "evalue": "Error in initial_split(pls_work, prop = 0.75, strata = pd): could not find function \"initial_split\"\n",
     "output_type": "error",
     "traceback": [
      "Error in initial_split(pls_work, prop = 0.75, strata = pd): could not find function \"initial_split\"\nTraceback:\n"
     ]
    }
   ],
   "source": [
    "pd_split <- initial_split(pls_work, prop = 0.75, strata = pd)\n",
    "pd_train <- training(pd_split)\n",
    "pd_test <- testing(pd_split)\n",
    "\n",
    "pd_vfold <- vfold_cv(pd_train, v = 5, strata = pd)"
   ]
  },
  {
   "cell_type": "code",
   "execution_count": 22,
   "id": "6860bac9-1a74-4a6c-9044-0338ba64b85d",
   "metadata": {
    "tags": []
   },
   "outputs": [
    {
     "data": {
      "image/png": "[encoded data removed]",
      "text/plain": [
       "plot without title"
      ]
     },
     "metadata": {
      "image/png": {
       "height": 420,
       "width": 420
      }
     },
     "output_type": "display_data"
    }
   ],
   "source": [
    "ggplot(pls_work, aes(x = tsne1, y = tsne2)) +\n",
    "    geom_point()"
   ]
  },
  {
   "cell_type": "code",
   "execution_count": 24,
   "id": "9b4490f2-43f9-4210-87ee-ce4d3948b46d",
   "metadata": {
    "tags": []
   },
   "outputs": [
    {
     "ename": "ERROR",
     "evalue": "Error in step_scale(step_center(recipe(pd ~ tsne1 + tsne2 + dominant + : could not find function \"step_scale\"\n",
     "output_type": "error",
     "traceback": [
      "Error in step_scale(step_center(recipe(pd ~ tsne1 + tsne2 + dominant + : could not find function \"step_scale\"\nTraceback:\n"
     ]
    }
   ],
   "source": [
    "pd_recipe <- recipe(pd ~ tsne1 + tsne2 + dominant + used, data = pls_work) |>\n",
    "    step_center(all_predictors()) |>\n",
    "    step_scale(all_predictors())\n",
    "\n",
    "knn_tune <- nearest_neighbor(weight_funct = \"rectangular\", neighbors = tune()) |>\n",
    "    set_engine(\"kknn\") |>\n",
    "    set_mode(\"classification\")\n",
    "\n",
    "gridvals <- tibble(neighbors = seq(1, 100))\n",
    "\n",
    "knn_results <- workflow() |>\n",
    "    add_recipe(pd_recipe) |>\n",
    "    add_model(knn_tune) |>\n",
    "    tune_grid(resamples = pd_vfold, grid = gridvals)"
   ]
  },
  {
   "cell_type": "code",
   "execution_count": null,
   "id": "10713138-139e-434a-9ff8-95b28d826b05",
   "metadata": {},
   "outputs": [],
   "source": [
    "# predictions code\n",
    "pd_test_predictions <- predict(knn_results, pd_test) |>\n",
    "    bind_cols(pd_test)"
   ]
  }
 ],
 "metadata": {
  "kernelspec": {
   "display_name": "R",
   "language": "R",
   "name": "ir"
  },
  "language_info": {
   "codemirror_mode": "r",
   "file_extension": ".r",
   "mimetype": "text/x-r-source",
   "name": "R",
   "pygments_lexer": "r",
   "version": "4.3.2"
  }
 },
 "nbformat": 4,
 "nbformat_minor": 5
}
